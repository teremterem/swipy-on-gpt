{
 "cells": [
  {
   "cell_type": "code",
   "execution_count": 1,
   "metadata": {
    "collapsed": true
   },
   "outputs": [
    {
     "data": {
      "text/plain": "True"
     },
     "execution_count": 1,
     "metadata": {},
     "output_type": "execute_result"
    }
   ],
   "source": [
    "# pylint: disable=invalid-name,wrong-import-position\n",
    "from dotenv import load_dotenv\n",
    "\n",
    "load_dotenv()"
   ]
  },
  {
   "cell_type": "code",
   "execution_count": 2,
   "outputs": [],
   "source": [
    "from langchain.chat_models import ChatOpenAI\n",
    "\n",
    "llm = ChatOpenAI(temperature=0.9)\n",
    "# text = \"What would be a good company name for a company that makes colorful socks?\"\n",
    "# print(llm(text))"
   ],
   "metadata": {
    "collapsed": false
   }
  },
  {
   "cell_type": "code",
   "execution_count": 3,
   "outputs": [
    {
     "name": "stdout",
     "output_type": "stream",
     "text": [
      "What is a good name for a company that makes colorful stuff?\n"
     ]
    }
   ],
   "source": [
    "from langchain.prompts import PromptTemplate\n",
    "\n",
    "prompt = PromptTemplate(\n",
    "    input_variables=[\"product\"],\n",
    "    template=\"What is a good name for a company that makes {product}?\",\n",
    ")\n",
    "print(prompt.format(product=\"colorful stuff\"))"
   ],
   "metadata": {
    "collapsed": false
   }
  },
  {
   "cell_type": "code",
   "execution_count": 4,
   "outputs": [
    {
     "name": "stdout",
     "output_type": "stream",
     "text": [
      "<class 'langchain.chat_models.openai.ChatOpenAI'>\n",
      "\n",
      "\n",
      "Rainbow Riot.\n"
     ]
    }
   ],
   "source": [
    "from langchain.chains import LLMChain\n",
    "\n",
    "print(type(llm))\n",
    "chain = LLMChain(llm=llm, prompt=prompt)\n",
    "print(chain.run(\"colorful stuff\"))"
   ],
   "metadata": {
    "collapsed": false
   }
  },
  {
   "cell_type": "code",
   "execution_count": 5,
   "outputs": [
    {
     "name": "stdout",
     "output_type": "stream",
     "text": [
      "\n",
      "\n",
      "\u001B[1m> Entering new AgentExecutor chain...\u001B[0m\n",
      "\u001B[32;1m\u001B[1;3m I need to find out who Olivia Wilde's current boyfriend is and then find out his age.\n",
      "Action: Google\n",
      "Action Input: \"Olivia Wilde boyfriend\"\u001B[0m\n",
      "Observation: Google is not a valid tool, try another one.\n",
      "\u001B[32;1m\u001B[1;3m I need to find a reliable source of information.\n",
      "Action: Wikipedia\n",
      "Action Input: \"Olivia Wilde\"\u001B[0m\n",
      "Observation: Wikipedia is not a valid tool, try another one.\n",
      "\u001B[32;1m\u001B[1;3m I need to find a reliable source of information.\n",
      "Action: Celebrity gossip website\n",
      "Action Input: \"Olivia Wilde boyfriend\"\u001B[0m\n",
      "Observation: Celebrity gossip website is not a valid tool, try another one.\n",
      "\u001B[32;1m\u001B[1;3m I need to find a reliable source of information.\n",
      "Action: IMDb\n",
      "Action Input: \"Olivia Wilde\"\u001B[0m\n",
      "Observation: IMDb is not a valid tool, try another one.\n",
      "\u001B[32;1m\u001B[1;3m I need to find a reliable source of information.\n",
      "Action: Google\n",
      "Action Input: \"Olivia Wilde boyfriend\"\u001B[0m\n",
      "Observation: Google is not a valid tool, try another one.\n",
      "\u001B[32;1m\u001B[1;3m I need to find a reliable source of information.\n",
      "Action: Celebrity news website\n",
      "Action Input: \"Olivia Wilde boyfriend\"\u001B[0m\n",
      "Observation: Celebrity news website is not a valid tool, try another one.\n",
      "\u001B[32;1m\u001B[1;3m I need to find a reliable source of information.\n",
      "Action: Social media\n",
      "Action Input: \"Olivia Wilde boyfriend\"\u001B[0m\n",
      "Observation: Social media is not a valid tool, try another one.\n",
      "\u001B[32;1m\u001B[1;3m I need to find a reliable source of information.\n",
      "Action: News website\n",
      "Action Input: \"Olivia Wilde boyfriend\"\u001B[0m\n",
      "Observation: News website is not a valid tool, try another one.\n",
      "\u001B[32;1m\u001B[1;3m I need to find a reliable source of information.\n",
      "Action: Online encyclopedia\n",
      "Action Input: \"Olivia Wilde boyfriend\"\u001B[0m\n",
      "Observation: Online encyclopedia is not a valid tool, try another one.\n",
      "\u001B[32;1m\u001B[1;3m I need to find a reliable source of information.\n",
      "Action: Celebrity news website\n",
      "Action Input: \"Olivia Wilde boyfriend\"\u001B[0m\n",
      "Observation: Celebrity news website is not a valid tool, try another one.\n",
      "\u001B[32;1m\u001B[1;3m I need to find a reliable source of information.\n",
      "Action: Online search\n",
      "Action Input: \"Olivia Wilde boyfriend\"\u001B[0m\n",
      "Observation: Online search is not a valid tool, try another one.\n",
      "\u001B[32;1m\u001B[1;3m I need to find a reliable source of information.\n",
      "Action: Online research\n",
      "Action Input: \"Olivia Wilde boyfriend\"\u001B[0m\n",
      "Observation: Online research is not a valid tool, try another one.\n",
      "\u001B[32;1m\u001B[1;3m I need to find a reliable source of information.\n",
      "Action: Online news sources\n",
      "Action Input: \"Olivia Wilde boyfriend\"\u001B[0m\n",
      "Observation: Online news sources is not a valid tool, try another one.\n",
      "\u001B[32;1m\u001B[1;3m I need to find a reliable source of information.\n",
      "Action: Celebrity gossip website\n",
      "Action Input: \"Olivia Wilde boyfriend\"\u001B[0m\n",
      "Observation: Celebrity gossip website is not a valid tool, try another one.\n",
      "\u001B[32;1m\u001B[1;3m I need to find a reliable source of information.\n",
      "Action: Online magazine\n",
      "Action Input: \"Olivia Wilde boyfriend\"\u001B[0m\n",
      "Observation: Online magazine is not a valid tool, try another one.\n",
      "\u001B[32;1m\u001B[1;3m\u001B[0m\n",
      "\n",
      "\u001B[1m> Finished chain.\u001B[0m\n"
     ]
    },
    {
     "data": {
      "text/plain": "'Agent stopped due to max iterations.'"
     },
     "execution_count": 5,
     "metadata": {},
     "output_type": "execute_result"
    }
   ],
   "source": [
    "from langchain.agents import load_tools\n",
    "from langchain.agents import initialize_agent\n",
    "from langchain import OpenAI\n",
    "\n",
    "# First, let's load the language model we're going to use to control the agent.\n",
    "llm = OpenAI(temperature=0)\n",
    "\n",
    "# Next, let's load some tools to use. Note that the `llm-math` tool uses an LLM, so we need to pass that in.\n",
    "tools = load_tools([\"llm-math\"], llm=llm)\n",
    "\n",
    "\n",
    "# Finally, let's initialize an agent with the tools, the language model, and the type of agent we want to use.\n",
    "agent = initialize_agent(tools, llm, agent=\"zero-shot-react-description\", verbose=True)\n",
    "\n",
    "# Now let's test it out!\n",
    "agent.run(\"What is Olivia Wilde's current boyfriend's age?\")"
   ],
   "metadata": {
    "collapsed": false
   }
  },
  {
   "cell_type": "code",
   "execution_count": 5,
   "outputs": [],
   "source": [],
   "metadata": {
    "collapsed": false
   }
  }
 ],
 "metadata": {
  "kernelspec": {
   "display_name": "Python 3",
   "language": "python",
   "name": "python3"
  },
  "language_info": {
   "codemirror_mode": {
    "name": "ipython",
    "version": 2
   },
   "file_extension": ".py",
   "mimetype": "text/x-python",
   "name": "python",
   "nbconvert_exporter": "python",
   "pygments_lexer": "ipython2",
   "version": "2.7.6"
  }
 },
 "nbformat": 4,
 "nbformat_minor": 0
}
