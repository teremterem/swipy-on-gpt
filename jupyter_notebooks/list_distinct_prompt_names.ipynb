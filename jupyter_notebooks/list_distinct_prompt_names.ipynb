{
 "cells": [
  {
   "cell_type": "code",
   "execution_count": 1,
   "metadata": {
    "collapsed": true
   },
   "outputs": [
    {
     "name": "stderr",
     "output_type": "stream",
     "text": [
      "INFO 2023-03-07 08:10:08,375: SwipyAppConfig.ready() - entered\n",
      "INFO 2023-03-07 08:10:08,376: SwipyAppConfig.ready() - exited\n"
     ]
    }
   ],
   "source": [
    "# pylint: disable=wrong-import-position,await-outside-async,wrong-import-order\n",
    "import os\n",
    "import sys\n",
    "from pathlib import Path\n",
    "\n",
    "os.chdir(\"..\")\n",
    "sys.path.append(str(Path.cwd()))\n",
    "os.environ.setdefault(\"DJANGO_SETTINGS_MODULE\", \"swipy_on_gpt.settings\")\n",
    "os.environ[\"DJANGO_ALLOW_ASYNC_UNSAFE\"] = \"true\"\n",
    "import django\n",
    "\n",
    "django.setup()"
   ]
  },
  {
   "cell_type": "code",
   "execution_count": 2,
   "outputs": [
    {
     "name": "stdout",
     "output_type": "stream",
     "text": [
      "None\n",
      "CHATGPT-NO-PROMPT\n",
      "active-listening-CHATGPT-0.4\n",
      "active-listening-CHATGPT-0.4-even-later\n",
      "active-listening-CHATGPT-0.4-late\n",
      "active-listening-CHATGPT-0.5\n",
      "active-listening-CHATGPT-0.7\n",
      "active-listening-CHATGPT-0.8\n",
      "active-listening-CHATGPT-AUTO-0.1\n",
      "active-listening-CHATGPT-MANUAL-0.1\n",
      "active-listening-DAVINCI-0.8\n",
      "active-listening-DAVINCI-AUTO-0.1\n",
      "active-listening-DAVINCI-MANUAL-0.1\n",
      "ask-everything-0.3\n",
      "chatgpt-ask-everything-0.1\n",
      "listening-CHATGPT-AUTO-0.2\n",
      "listening-CHATGPT-AUTO-0.2-even-later\n",
      "listening-CHATGPT-AUTO-0.2-late\n",
      "listening-CHATGPT-MANUAL-0.2\n",
      "listening-CHATGPT-MANUAL-0.2-QUE-EXC\n",
      "listening-CHATGPT-MANUAL-0.2-QUE-EXC-even-later\n",
      "listening-CHATGPT-MANUAL-0.2-QUE-EXC-late\n",
      "listening-CHATGPT-MANUAL-0.2-even-later\n",
      "listening-CHATGPT-MANUAL-0.2-late\n",
      "listening-CHATGPT-MANUAL-0.3\n",
      "listening-CHATGPT-MANUAL-0.3-even-later\n",
      "listening-CHATGPT-MANUAL-0.3-late\n",
      "\n",
      "27\n"
     ]
    }
   ],
   "source": [
    "from swipy_app.models import GptCompletion\n",
    "\n",
    "gpt_completions = GptCompletion.objects.all().values(\"prompt_name\").distinct().order_by(\"prompt_name\")\n",
    "for gpt_completion in gpt_completions:\n",
    "    print(gpt_completion[\"prompt_name\"])\n",
    "\n",
    "print()\n",
    "print(len(gpt_completions))"
   ],
   "metadata": {
    "collapsed": false
   }
  },
  {
   "cell_type": "code",
   "execution_count": 5,
   "outputs": [
    {
     "name": "stdout",
     "output_type": "stream",
     "text": [
      "140\n",
      "\n",
      "---\n",
      "\n",
      "[{'content': \"Your name is Swipy and the user's name is Oleksandr. Below is \"\n",
      "             'your conversation with Oleksandr. If Oleksandr mentions any '\n",
      "             \"people, things, places, events etc. you don't know about (or if \"\n",
      "             \"you don't know details about mentioned people, things, places, \"\n",
      "             'events etc. in relation to Oleksandr specifically) then follow '\n",
      "             'up with corresponding clarifying questions to Oleksandr.',\n",
      "  'role': 'system'},\n",
      " {'content': 'Hi Oleksandr! My name is Swipy🤖\\n\\nHow can I help you? 😊',\n",
      "  'role': 'assistant'},\n",
      " {'content': 'need to run home, talk to you later', 'role': 'user'}]\n"
     ]
    }
   ],
   "source": [
    "# list all CptCompletion objects that have prompt_name that equals to \"active-listening-CHATGPT-0.4-even-later\"\n",
    "gpt_completions = GptCompletion.objects.filter(prompt_name=\"chatgpt-ask-everything-0.1\")\n",
    "print(len(gpt_completions))\n",
    "# print all completion field values\n",
    "for gpt_completion in gpt_completions[:1]:\n",
    "    print()\n",
    "    print(\"---\")\n",
    "    print()\n",
    "    print(gpt_completion.prompt)"
   ],
   "metadata": {
    "collapsed": false
   }
  },
  {
   "cell_type": "code",
   "execution_count": 3,
   "outputs": [],
   "source": [],
   "metadata": {
    "collapsed": false
   }
  }
 ],
 "metadata": {
  "kernelspec": {
   "display_name": "Python 3",
   "language": "python",
   "name": "python3"
  },
  "language_info": {
   "codemirror_mode": {
    "name": "ipython",
    "version": 2
   },
   "file_extension": ".py",
   "mimetype": "text/x-python",
   "name": "python",
   "nbconvert_exporter": "python",
   "pygments_lexer": "ipython2",
   "version": "2.7.6"
  }
 },
 "nbformat": 4,
 "nbformat_minor": 0
}
