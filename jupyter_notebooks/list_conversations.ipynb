{
 "cells": [
  {
   "cell_type": "code",
   "execution_count": 1,
   "metadata": {
    "collapsed": true
   },
   "outputs": [
    {
     "name": "stderr",
     "output_type": "stream",
     "text": [
      "INFO 2023-02-22 20:55:03,665: SwipyAppConfig.ready() - entered\n",
      "INFO 2023-02-22 20:55:03,666: SwipyAppConfig.ready() - exited\n"
     ]
    }
   ],
   "source": [
    "# pylint: disable=wrong-import-position,await-outside-async,wrong-import-order\n",
    "import os\n",
    "import sys\n",
    "from pathlib import Path\n",
    "\n",
    "os.chdir(\"..\")\n",
    "sys.path.append(str(Path.cwd()))\n",
    "os.environ.setdefault(\"DJANGO_SETTINGS_MODULE\", \"swipy_on_gpt.settings\")\n",
    "os.environ[\"DJANGO_ALLOW_ASYNC_UNSAFE\"] = \"true\"\n",
    "import django\n",
    "\n",
    "django.setup()"
   ]
  },
  {
   "cell_type": "code",
   "execution_count": 2,
   "outputs": [
    {
     "name": "stdout",
     "output_type": "stream",
     "text": [
      "Conversation object (48)\n",
      "Conversation object (47)\n",
      "Conversation object (26)\n",
      "Conversation object (25)\n",
      "Conversation object (24)\n",
      "Conversation object (23)\n",
      "Conversation object (22)\n",
      "Conversation object (21)\n",
      "Conversation object (20)\n",
      "Conversation object (19)\n",
      "Conversation object (18)\n",
      "Conversation object (17)\n",
      "Conversation object (16)\n",
      "Conversation object (15)\n",
      "Conversation object (14)\n",
      "Conversation object (13)\n",
      "Conversation object (12)\n",
      "Conversation object (11)\n",
      "Conversation object (10)\n",
      "Conversation object (9)\n",
      "Conversation object (8)\n",
      "Conversation object (7)\n",
      "Conversation object (6)\n",
      "Conversation object (5)\n",
      "Conversation object (4)\n",
      "Conversation object (3)\n",
      "Conversation object (2)\n",
      "Conversation object (1)\n"
     ]
    }
   ],
   "source": [
    "from swipy_app.models import Conversation, SwipyUser\n",
    "\n",
    "conversations = []\n",
    "current_conversation = []\n",
    "swipy_user = SwipyUser.objects.get(chat_telegram_id=210723289)\n",
    "for conversation in Conversation.objects.all().filter(swipy_user=swipy_user).order_by(\"-id\"):\n",
    "    print(conversation)"
   ],
   "metadata": {
    "collapsed": false
   }
  },
  {
   "cell_type": "code",
   "execution_count": 7,
   "outputs": [
    {
     "name": "stdout",
     "output_type": "stream",
     "text": [
      "Your name is Swipy and the user's name is Oleksandr. Here is your dialog with Oleksandr. Summarize what can be learned from this dialog using a bulleted list of short sentences.\n",
      "\n",
      "*Swipy:* Hi Oleksandr, nice to meet you! How are you doing today?\n",
      "*Oleksandr:* I promised myself to finish work early in return for focusing on work, but ended up working overtime for two days straight instead and now I hate myself because it feels as if I betrayed myself.\n",
      "*Swipy:* That sounds really tough. What kind of work were you doing?\n",
      "*Oleksandr:* My regular daytime job, but this is less important. I wan’t to talk about the fact of betraying myself (giving myself a promise and not standing by it).\n",
      "*Swipy:* I understand. What was the promise you made to yourself?\n",
      "*Oleksandr:* I already told you - I promised myself to finish work early. I made that promise to motivate myself to focus on work.\n",
      "*Swipy:* What was the reason you ended up working overtime instead?\n",
      "*Oleksandr:* I underestimated the effort that was needed to finish the critical and urgent task (don’t ask about the specifics of the task - it’s not important either). When I was giving myself that promise I was under the wrong impression that it will not take me this long to finish that critical task.\n",
      "*Swipy:* That makes sense. How do you plan to move forward from here?\n",
      "*Oleksandr:* I owe myself to make it right - I need to redeem myself somehow, regain my own trust. But I am not sure how to do that.\n",
      "*Swipy:* Have you thought of any ideas on how to do that?\n",
      "*Oleksandr:* I was hoping that you gave me some.\n",
      "*Swipy:* Well, I think it's important to forgive yourself and recognize that mistakes happen. Maybe you could set yourself a new goal that you can work towards and focus on that instead.\n",
      "*Oleksandr:* I still need to give something to my “inner child” in return - he endured all that (we finished the task on time).\n",
      "*Swipy:* What kind of reward would make you feel like you've redeemed yourself?\n",
      "*Oleksandr:* leaving work early today\n",
      "*Swipy:* That sounds like a great idea! Do you have any plans for what you'll do with the extra time?\n",
      "*Oleksandr:* The problem is not that, the problem is that I will have to say something tomorrow on the standup about what I was doing today (and I’m not very effective today after the overtimes yesterday and the day after yesterday)\n",
      "*Swipy:* That's understandable. Maybe you could take some time to rest and relax today so that you can be more productive tomorrow?\n",
      "*Oleksandr:* Yes, I did exactly that, thank you!\n",
      "*Swipy:* You're welcome! I'm glad I could help.\n",
      "\n",
      "# SUMMARY\n"
     ]
    }
   ],
   "source": [
    "from swipy_bot.gpt_completions import DialogGptCompletion\n",
    "\n",
    "dialog_gpt_completion = DialogGptCompletion(\n",
    "    user_name=swipy_user.first_name,\n",
    "    bot_name=\"Swipy\",\n",
    "    prompt_template=\"\"\"\\\n",
    "Your name is {BOT} and the user's name is {USER}. Here is your dialog with {USER}. Summarize what can be learned from this dialog using a bulleted list of short sentences.\n",
    "\n",
    "{DIALOG}\n",
    "\n",
    "# SUMMARY\"\"\",\n",
    "    temperature=0,\n",
    ")\n",
    "await dialog_gpt_completion.build_prompt(\n",
    "    conversation_id=48,\n",
    "    append_bot_name_at_the_end=False,\n",
    ")\n",
    "print(dialog_gpt_completion.prompt)"
   ],
   "metadata": {
    "collapsed": false
   }
  },
  {
   "cell_type": "code",
   "execution_count": 8,
   "outputs": [
    {
     "name": "stderr",
     "output_type": "stream",
     "text": [
      "DEBUG 2023-02-22 21:00:12,050: message='Request to OpenAI API' method=post path=https://api.openai.com/v1/engines/text-davinci-003/completions\n",
      "DEBUG 2023-02-22 21:00:12,051: api_version=None data='{\"prompt\": \"Your name is Swipy and the user\\'s name is Oleksandr. Here is your dialog with Oleksandr. Summarize what can be learned from this dialog using a bulleted list of short sentences.\\\\n\\\\n*Swipy:* Hi Oleksandr, nice to meet you! How are you doing today?\\\\n*Oleksandr:* I promised myself to finish work early in return for focusing on work, but ended up working overtime for two days straight instead and now I hate myself because it feels as if I betrayed myself.\\\\n*Swipy:* That sounds really tough. What kind of work were you doing?\\\\n*Oleksandr:* My regular daytime job, but this is less important. I wan\\\\u2019t to talk about the fact of betraying myself (giving myself a promise and not standing by it).\\\\n*Swipy:* I understand. What was the promise you made to yourself?\\\\n*Oleksandr:* I already told you - I promised myself to finish work early. I made that promise to motivate myself to focus on work.\\\\n*Swipy:* What was the reason you ended up working overtime instead?\\\\n*Oleksandr:* I underestimated the effort that was needed to finish the critical and urgent task (don\\\\u2019t ask about the specifics of the task - it\\\\u2019s not important either). When I was giving myself that promise I was under the wrong impression that it will not take me this long to finish that critical task.\\\\n*Swipy:* That makes sense. How do you plan to move forward from here?\\\\n*Oleksandr:* I owe myself to make it right - I need to redeem myself somehow, regain my own trust. But I am not sure how to do that.\\\\n*Swipy:* Have you thought of any ideas on how to do that?\\\\n*Oleksandr:* I was hoping that you gave me some.\\\\n*Swipy:* Well, I think it\\'s important to forgive yourself and recognize that mistakes happen. Maybe you could set yourself a new goal that you can work towards and focus on that instead.\\\\n*Oleksandr:* I still need to give something to my \\\\u201cinner child\\\\u201d in return - he endured all that (we finished the task on time).\\\\n*Swipy:* What kind of reward would make you feel like you\\'ve redeemed yourself?\\\\n*Oleksandr:* leaving work early today\\\\n*Swipy:* That sounds like a great idea! Do you have any plans for what you\\'ll do with the extra time?\\\\n*Oleksandr:* The problem is not that, the problem is that I will have to say something tomorrow on the standup about what I was doing today (and I\\\\u2019m not very effective today after the overtimes yesterday and the day after yesterday)\\\\n*Swipy:* That\\'s understandable. Maybe you could take some time to rest and relax today so that you can be more productive tomorrow?\\\\n*Oleksandr:* Yes, I did exactly that, thank you!\\\\n*Swipy:* You\\'re welcome! I\\'m glad I could help.\\\\n\\\\n# SUMMARY\", \"temperature\": 0, \"max_tokens\": 512, \"stop\": [\"*Oleksandr:*\"]}' message='Post details'\n",
      "INFO 2023-02-22 21:00:15,979: message='OpenAI API response' path=https://api.openai.com/v1/engines/text-davinci-003/completions processing_ms=3411 request_id=d7569bd399f09b05997e7df0f88daf82 response_code=200\n"
     ]
    },
    {
     "name": "stdout",
     "output_type": "stream",
     "text": [
      "\n",
      "\n",
      "* Oleksandr made a promise to himself to finish work early, but ended up working overtime instead.\n",
      "* He felt like he had betrayed himself and was looking for a way to redeem himself.\n",
      "* Swipy suggested that Oleksandr forgive himself and set a new goal to focus on.\n",
      "* Oleksandr decided to leave work early as a reward and take some time to rest and relax.\n"
     ]
    }
   ],
   "source": [
    "import openai\n",
    "\n",
    "gpt_response = await openai.Completion.acreate(\n",
    "    prompt=dialog_gpt_completion.prompt,\n",
    "    engine=\"text-davinci-003\",\n",
    "    temperature=dialog_gpt_completion.temperature,\n",
    "    max_tokens=512,\n",
    "    stop=dialog_gpt_completion.stop_list,\n",
    ")\n",
    "print(gpt_response.choices[0].text)"
   ],
   "metadata": {
    "collapsed": false
   }
  },
  {
   "cell_type": "code",
   "execution_count": null,
   "outputs": [],
   "source": [],
   "metadata": {
    "collapsed": false
   }
  }
 ],
 "metadata": {
  "kernelspec": {
   "display_name": "Python 3",
   "language": "python",
   "name": "python3"
  },
  "language_info": {
   "codemirror_mode": {
    "name": "ipython",
    "version": 2
   },
   "file_extension": ".py",
   "mimetype": "text/x-python",
   "name": "python",
   "nbconvert_exporter": "python",
   "pygments_lexer": "ipython2",
   "version": "2.7.6"
  }
 },
 "nbformat": 4,
 "nbformat_minor": 0
}
