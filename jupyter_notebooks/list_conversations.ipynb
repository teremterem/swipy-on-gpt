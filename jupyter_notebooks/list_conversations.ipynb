{
 "cells": [
  {
   "cell_type": "code",
   "execution_count": 1,
   "metadata": {
    "collapsed": true
   },
   "outputs": [
    {
     "name": "stderr",
     "output_type": "stream",
     "text": [
      "INFO 2023-02-22 20:25:36,218: SwipyAppConfig.ready() - entered\n",
      "INFO 2023-02-22 20:25:36,219: SwipyAppConfig.ready() - exited\n"
     ]
    }
   ],
   "source": [
    "# pylint: disable=wrong-import-position\n",
    "import os\n",
    "import sys\n",
    "from pathlib import Path\n",
    "\n",
    "os.chdir(\"..\")\n",
    "sys.path.append(str(Path.cwd()))\n",
    "os.environ.setdefault(\"DJANGO_SETTINGS_MODULE\", \"swipy_on_gpt.settings\")\n",
    "os.environ[\"DJANGO_ALLOW_ASYNC_UNSAFE\"] = \"true\"\n",
    "import django\n",
    "\n",
    "django.setup()"
   ]
  },
  {
   "cell_type": "code",
   "execution_count": 3,
   "outputs": [
    {
     "name": "stdout",
     "output_type": "stream",
     "text": [
      "Conversation object (26)\n",
      "Conversation object (25)\n",
      "Conversation object (24)\n",
      "Conversation object (23)\n",
      "Conversation object (22)\n",
      "Conversation object (21)\n",
      "Conversation object (20)\n",
      "Conversation object (19)\n",
      "Conversation object (18)\n",
      "Conversation object (17)\n",
      "Conversation object (16)\n",
      "Conversation object (15)\n",
      "Conversation object (14)\n",
      "Conversation object (13)\n",
      "Conversation object (12)\n",
      "Conversation object (11)\n",
      "Conversation object (10)\n",
      "Conversation object (9)\n",
      "Conversation object (8)\n",
      "Conversation object (7)\n",
      "Conversation object (6)\n",
      "Conversation object (5)\n",
      "Conversation object (4)\n",
      "Conversation object (3)\n",
      "Conversation object (2)\n",
      "Conversation object (1)\n"
     ]
    }
   ],
   "source": [
    "from swipy_app.models import Conversation, SwipyUser\n",
    "\n",
    "conversations = []\n",
    "current_conversation = []\n",
    "swipy_user = SwipyUser.objects.get(chat_telegram_id=210723289)\n",
    "for conversation in Conversation.objects.all().filter(swipy_user=swipy_user).order_by(\"-id\"):\n",
    "    print(conversation)"
   ],
   "metadata": {
    "collapsed": false
   }
  },
  {
   "cell_type": "code",
   "execution_count": null,
   "outputs": [],
   "source": [],
   "metadata": {
    "collapsed": false
   }
  }
 ],
 "metadata": {
  "kernelspec": {
   "display_name": "Python 3",
   "language": "python",
   "name": "python3"
  },
  "language_info": {
   "codemirror_mode": {
    "name": "ipython",
    "version": 2
   },
   "file_extension": ".py",
   "mimetype": "text/x-python",
   "name": "python",
   "nbconvert_exporter": "python",
   "pygments_lexer": "ipython2",
   "version": "2.7.6"
  }
 },
 "nbformat": 4,
 "nbformat_minor": 0
}
