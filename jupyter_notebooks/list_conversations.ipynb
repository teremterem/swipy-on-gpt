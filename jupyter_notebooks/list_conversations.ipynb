{
 "cells": [
  {
   "cell_type": "code",
   "execution_count": 1,
   "metadata": {
    "collapsed": true
   },
   "outputs": [
    {
     "name": "stderr",
     "output_type": "stream",
     "text": [
      "INFO 2023-02-18 16:42:26,713: SwipyAppConfig.ready() - entered\n",
      "INFO 2023-02-18 16:42:26,714: SwipyAppConfig.ready() - exited\n"
     ]
    }
   ],
   "source": [
    "# pylint: disable=wrong-import-position\n",
    "import os\n",
    "import sys\n",
    "from pathlib import Path\n",
    "\n",
    "os.chdir(\"..\")\n",
    "sys.path.append(str(Path.cwd()))\n",
    "os.environ.setdefault(\"DJANGO_SETTINGS_MODULE\", \"swipy_on_gpt.settings\")\n",
    "os.environ[\"DJANGO_ALLOW_ASYNC_UNSAFE\"] = \"true\"\n",
    "import django\n",
    "\n",
    "django.setup()"
   ]
  },
  {
   "cell_type": "code",
   "execution_count": 2,
   "outputs": [
    {
     "name": "stdout",
     "output_type": "stream",
     "text": [
      "21\n",
      "\n",
      "\n",
      "85\n",
      "3\n",
      "1\n",
      "15\n",
      "1\n",
      "3\n",
      "1\n",
      "3\n",
      "1\n",
      "3\n",
      "10\n",
      "38\n",
      "12\n",
      "99\n",
      "38\n",
      "22\n",
      "22\n",
      "6\n",
      "20\n",
      "24\n",
      "22\n"
     ]
    }
   ],
   "source": [
    "from swipy_app.models import Utterance\n",
    "\n",
    "conversations = []\n",
    "current_conversation = []\n",
    "for utterance in Utterance.objects.all().filter(chat_telegram_id=210723289).order_by(\"arrival_timestamp_ms\"):\n",
    "    current_conversation.append(utterance)\n",
    "    if utterance.is_end_of_conv:\n",
    "        conversations.append(current_conversation)\n",
    "        current_conversation = []\n",
    "\n",
    "print(len(conversations))\n",
    "print()\n",
    "print()\n",
    "for conversation in conversations:\n",
    "    print(len(conversation))\n",
    "    # for utterance in conversation:\n",
    "    #     print(utterance.name, \":\", utterance.text)\n",
    "    # print()\n",
    "    # print()"
   ],
   "metadata": {
    "collapsed": false
   }
  },
  {
   "cell_type": "code",
   "execution_count": 2,
   "outputs": [],
   "source": [],
   "metadata": {
    "collapsed": false
   }
  }
 ],
 "metadata": {
  "kernelspec": {
   "display_name": "Python 3",
   "language": "python",
   "name": "python3"
  },
  "language_info": {
   "codemirror_mode": {
    "name": "ipython",
    "version": 2
   },
   "file_extension": ".py",
   "mimetype": "text/x-python",
   "name": "python",
   "nbconvert_exporter": "python",
   "pygments_lexer": "ipython2",
   "version": "2.7.6"
  }
 },
 "nbformat": 4,
 "nbformat_minor": 0
}
