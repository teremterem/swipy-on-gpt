{
 "cells": [
  {
   "cell_type": "code",
   "execution_count": 1,
   "metadata": {
    "collapsed": true
   },
   "outputs": [
    {
     "name": "stderr",
     "output_type": "stream",
     "text": [
      "INFO 2023-03-05 21:55:56,533: SwipyAppConfig.ready() - entered\n",
      "INFO 2023-03-05 21:55:56,533: SwipyAppConfig.ready() - exited\n"
     ]
    }
   ],
   "source": [
    "# pylint: disable=wrong-import-position,await-outside-async,wrong-import-order\n",
    "import os\n",
    "import sys\n",
    "from pathlib import Path\n",
    "\n",
    "os.chdir(\"..\")\n",
    "sys.path.append(str(Path.cwd()))\n",
    "os.environ.setdefault(\"DJANGO_SETTINGS_MODULE\", \"swipy_on_gpt.settings\")\n",
    "os.environ[\"DJANGO_ALLOW_ASYNC_UNSAFE\"] = \"true\"\n",
    "import django\n",
    "\n",
    "django.setup()"
   ]
  },
  {
   "cell_type": "code",
   "execution_count": 2,
   "outputs": [
    {
     "name": "stdout",
     "output_type": "stream",
     "text": [
      "1\n",
      "active-listening-CHATGPT-0.4-even-later-top_p-1.0-tempr-1.0\n"
     ]
    }
   ],
   "source": [
    "from swipy_app.models import GptCompletion\n",
    "\n",
    "gpt_completions = (\n",
    "    GptCompletion.objects.filter(prompt_name=\"active-listening-CHATGPT-0.4-even-later\")\n",
    "    .values(\"prompt_name\", \"top_p\", \"temperature\")\n",
    "    .distinct()\n",
    ")\n",
    "print(len(gpt_completions))\n",
    "\n",
    "for gpt_completion in gpt_completions:\n",
    "    print(f\"{gpt_completion['prompt_name']}-top_p-{gpt_completion['top_p']}-tempr-{gpt_completion['temperature']}\")"
   ],
   "metadata": {
    "collapsed": false
   }
  },
  {
   "cell_type": "code",
   "execution_count": 3,
   "outputs": [
    {
     "name": "stdout",
     "output_type": "stream",
     "text": [
      "20\n",
      "\n",
      "---\n",
      "\n",
      "It's natural to feel protective of your project and want to maintain ownership and control over it. Have you considered setting clear boundaries and expectations for any potential collaborators to ensure that your vision for the project is respected? You might also consider creating a contract or agreement that outlines the terms of the collaboration and the specific roles and responsibilities of each party involved. Additionally, if you're concerned about others significantly changing your project or its direction, you could consider starting with a small group of trusted collaborators who share your vision for the project and gradually expand your team as needed.\n",
      "\n",
      "---\n",
      "\n",
      "It's understandable to be protective of something that you've put a lot of time and effort into, and to worry about losing control of it. Have you considered outlining specific guidelines or making it clear from the beginning what kind of input or influence you are open to from collaborators? This can help ensure that everyone is on the same page and that your vision for the project isn't compromised. You could also consider reviewing each team member's contributions and giving feedback to ensure they align with your vision.\n",
      "\n",
      "---\n",
      "\n",
      "That's an interesting dilemma. Why did you originally decide that 3 cups of black tea was a good limit for you? Is there a particular reason you want to break the rule today? Have you considered any potential negative consequences of drinking the additional cup?\n",
      "\n",
      "---\n",
      "\n",
      "That's a good and sensible reason for setting a limit, Oleksandr. You want to make sure you get an adequate amount of sleep, and it seems like you've discovered that too much black tea disrupts your sleep. Have you considered whether breaking your rule and drinking a fourth cup today will likely result in poorer quality sleep tonight?\n",
      "\n",
      "---\n",
      "\n",
      "I see. It's understandable to sometimes have a desire to break our own rules. Can you think of any potential solutions that would allow you to have that extra cup of tea without having a negative impact on your sleep?\n",
      "\n",
      "---\n",
      "\n",
      "I understand, Oleksandr. It seems like you are motivated to drink the fourth cup of tea even though it may impact your sleep negatively. Can you think of any other ways to address the desire for another cup of tea without breaking your rule and potentially affecting your sleep?\n",
      "\n",
      "---\n",
      "\n",
      "That sounds like a good plan! Take your time to think about it, and feel free to come back and talk through your decision if you need any further input.\n",
      "\n",
      "---\n",
      "\n",
      "It's good to hear that you have made a decision for yourself, Oleksandr. It's okay to sometimes break our own rules, as long as we are aware of the potential consequences and are making an informed decision. Just remember to pay attention to how the extra cup of black tea affects your sleep and adjust your consumption if necessary in the future. Good luck with your work!\n",
      "\n",
      "---\n",
      "\n",
      "Of course, Oleksandr! I'd be happy to check in with you tomorrow evening and see how the extra cup of black tea affected your sleep and whether you felt it was worth breaking your rule.\n",
      "\n",
      "---\n",
      "\n",
      "Is there anything else I can help you with today, Oleksandr?\n",
      "\n",
      "---\n",
      "\n",
      "It's understandable to feel that way, Oleksandr. Breaking a personal rule can bring a feeling of guilt or disappointment. However, try to remember that small deviations from our habits and routines are a natural part of life, and it's important to go easy on ourselves when we slip up. Maybe you can reflect on the situation and consider what you might do differently in the future. Would you like to talk more about it?\n",
      "\n",
      "---\n",
      "\n",
      "Sure, sounds good! I'll check in with you tomorrow evening to see how you're doing and whether you feel breaking the rule for that extra cup of tea was worth it. Have a good rest of your day!\n",
      "\n",
      "---\n",
      "\n",
      "Sure, I can remind you. Would you like me to set a reminder for you to read that article at a specific time or on a specific day?\n",
      "\n",
      "---\n",
      "\n",
      "Got it! I added it to your bucket list. Is there anything else I can help you with today?\n",
      "\n",
      "---\n",
      "\n",
      "It's good that you're being mindful of your tea consumption, Oleksandr. You already considered the potential negative impact that the fourth cup could have on your sleep. It's worth remembering that excessive caffeine consumption can lead to negative health effects, so it's important to be mindful of how much you're consuming. Have you considered other ways to stay productive without relying on caffeine?\n",
      "\n",
      "---\n",
      "\n",
      "It sounds like it may be a good time to start winding down for the evening, Oleksandr. Is there anything that you need to complete before you go to bed?\n",
      "\n",
      "---\n",
      "\n",
      "What is it that you want to complete, Oleksandr? Why is it important to you to complete it? And is there a particular reason you didn't complete it earlier?\n",
      "\n",
      "---\n",
      "\n",
      "Good to hear that you were productive, Oleksandr! Is there anything else that you need help with or any other concerns that you'd like to discuss before you head to bed?\n",
      "\n",
      "---\n",
      "\n",
      "It sounds like you have a plan for the evening, Oleksandr. Is there anything I can help you with during that hour of work or is there anything you'd like to discuss before you start winding down for the night?\n",
      "\n",
      "---\n",
      "\n",
      "No problem, Oleksandr. If you need anything later, feel free to reach out. Have a good evening!\n"
     ]
    }
   ],
   "source": [
    "# list all CptCompletion objects that have prompt_name that equals to \"active-listening-CHATGPT-0.4-even-later\"\n",
    "gpt_completions = GptCompletion.objects.filter(prompt_name=\"active-listening-CHATGPT-0.4-even-later\")\n",
    "print(len(gpt_completions))\n",
    "# print all completion field values\n",
    "for gpt_completion in gpt_completions:\n",
    "    print()\n",
    "    print(\"---\")\n",
    "    print()\n",
    "    print(gpt_completion.completion)"
   ],
   "metadata": {
    "collapsed": false
   }
  },
  {
   "cell_type": "code",
   "execution_count": 3,
   "outputs": [],
   "source": [],
   "metadata": {
    "collapsed": false
   }
  }
 ],
 "metadata": {
  "kernelspec": {
   "display_name": "Python 3",
   "language": "python",
   "name": "python3"
  },
  "language_info": {
   "codemirror_mode": {
    "name": "ipython",
    "version": 2
   },
   "file_extension": ".py",
   "mimetype": "text/x-python",
   "name": "python",
   "nbconvert_exporter": "python",
   "pygments_lexer": "ipython2",
   "version": "2.7.6"
  }
 },
 "nbformat": 4,
 "nbformat_minor": 0
}
